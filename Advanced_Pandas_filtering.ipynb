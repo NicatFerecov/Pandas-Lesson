{
  "cells": [
    {
      "cell_type": "markdown",
      "source": [
        "Beyond basic slicing, Pandas offers a powerful and flexible set of tools for advanced filtering. Mastering these techniques is crucial for efficient data analysis, allowing you to isolate the precise data you need for your investigations. This guide provides an in-depth explanation of advanced filtering methods, their use cases, and performance considerations to aid your journey in data analytics.\n",
        "\n",
        "### **The Foundation: Boolean Indexing with `.loc`**\n",
        "\n",
        "The most fundamental and idiomatic way to filter data in Pandas is through **boolean indexing**. This involves creating a boolean \"mask\"—a Series of `True` and `False` values—and using it to select rows from the DataFrame. For clarity and to avoid potential pitfalls, it's best practice to use this mask within the `.loc` accessor.\n",
        "\n",
        "**Logic:**\n",
        "You provide a condition (e.g., `df['age'] > 30`). Pandas evaluates this for each row, generating a boolean Series. `.loc` then returns only the rows where the mask is `True`.\n",
        "\n",
        "**Combining Conditions:**\n",
        "To combine multiple conditions, use the bitwise operators:\n",
        "\n",
        "  * `&` for AND\n",
        "  * `|` for OR\n",
        "  * `~` for NOT\n",
        "\n",
        "Each condition must be wrapped in parentheses due to Python's operator precedence.\n",
        "\n",
        "**Example:**"
      ],
      "metadata": {
        "id": "GejpW862_O30"
      }
    },
    {
      "cell_type": "code",
      "source": [
        "import pandas as pd\n",
        "import numpy as np\n",
        "\n",
        "data = {'age': [25, 30, 35, 40, 45],\n",
        "        'country': ['USA', 'Canada', 'USA', 'UK', 'Canada'],\n",
        "        'score': [80, 90, 85, 95, 90]}\n",
        "df = pd.DataFrame(data)\n",
        "\n",
        "# Filtering for individuals older than 30 from the USA\n",
        "filtered_df = df.loc[(df['age'] > 30) & (df['country'] == 'USA')]\n",
        "print(filtered_df)"
      ],
      "outputs": [
        {
          "output_type": "stream",
          "name": "stdout",
          "text": [
            "   age country  score\n",
            "2   35     USA     85\n"
          ]
        }
      ],
      "execution_count": 1,
      "metadata": {
        "colab": {
          "base_uri": "https://localhost:8080/"
        },
        "id": "NH0eFn1E_O4U",
        "outputId": "4ab9297f-4165-466d-8ea7-9bf8e639d40c"
      }
    },
    {
      "cell_type": "markdown",
      "source": [
        "### **For Readability: The `.query()` Method**\n",
        "\n",
        "When you have multiple conditions, boolean indexing can become verbose. The `.query()` method allows you to express filters using a more readable string-based syntax, similar to a `WHERE` clause in SQL.\n",
        "\n",
        "**Logic:**\n",
        "You pass a string to `.query()` that contains the filtering logic. Column names can be used directly. For variables in your environment, prefix them with an `@`.\n",
        "\n",
        "**Example:**"
      ],
      "metadata": {
        "id": "xWFL7GRY_O4f"
      }
    },
    {
      "cell_type": "code",
      "source": [
        "age_threshold = 30\n",
        "country_of_interest = 'Canada'\n",
        "\n",
        "# Filtering using query\n",
        "filtered_df_query = df.query('age > @age_threshold and country == @country_of_interest')\n",
        "print(filtered_df_query)"
      ],
      "outputs": [
        {
          "output_type": "stream",
          "name": "stdout",
          "text": [
            "   age country  score\n",
            "4   45  Canada     90\n"
          ]
        }
      ],
      "execution_count": 2,
      "metadata": {
        "colab": {
          "base_uri": "https://localhost:8080/"
        },
        "id": "dGqZfzIu_O4i",
        "outputId": "57682b3d-875b-4a37-f322-0c7f8437f939"
      }
    },
    {
      "cell_type": "markdown",
      "source": [
        "**Performance:** For complex queries, `query()` can be faster than boolean indexing because it uses the `numexpr` library for evaluation, which can optimize the computation.\n",
        "\n",
        "### **Membership Testing: The `.isin()` Method**\n",
        "\n",
        "When you need to filter based on whether a column's value is present in a list of items, `.isin()` is the most efficient and readable approach.\n",
        "\n",
        "**Logic:**\n",
        "Provide a list, set, or other iterable to `.isin()`. It returns a boolean mask that is `True` for rows where the column value is in the provided iterable.\n",
        "\n",
        "**Example:**"
      ],
      "metadata": {
        "id": "A0bLG_QP_O4m"
      }
    },
    {
      "cell_type": "code",
      "source": [
        "# Filtering for individuals from the USA or the UK\n",
        "countries = ['USA', 'UK']\n",
        "filtered_df_isin = df.loc[df['country'].isin(countries)]\n",
        "print(filtered_df_isin)"
      ],
      "outputs": [
        {
          "output_type": "stream",
          "name": "stdout",
          "text": [
            "   age country  score\n",
            "0   25     USA     80\n",
            "2   35     USA     85\n",
            "3   40      UK     95\n"
          ]
        }
      ],
      "execution_count": 3,
      "metadata": {
        "colab": {
          "base_uri": "https://localhost:8080/"
        },
        "id": "NLqkDdfX_O4p",
        "outputId": "1569007b-38d1-427c-a748-953f557eee14"
      }
    },
    {
      "cell_type": "markdown",
      "source": [
        "This is significantly more concise and performant than chaining multiple `|` (OR) conditions.\n",
        "\n",
        "### **Conditional Replacement: `.where()` and `.mask()`**\n",
        "\n",
        "Sometimes, you don't want to drop rows but rather replace values based on a condition.\n",
        "\n",
        "  * **`.where(condition, replacement)`**: Keeps the original value where the condition is `True` and uses the `replacement` value where it's `False`.\n",
        "  * **`.mask(condition, replacement)`**: The inverse of `.where()`. It keeps the original value where the condition is `False` and uses the `replacement` value where it's `True`.\n",
        "\n",
        "**Logic:**\n",
        "These methods are useful for data cleaning or transformation, allowing for conditional updates without explicit iteration.\n",
        "\n",
        "**Example:**"
      ],
      "metadata": {
        "id": "UiCjEZQl_O4t"
      }
    },
    {
      "cell_type": "code",
      "source": [
        "# Replace scores less than 90 with 'Needs Improvement'\n",
        "df['performance'] = df['score'].where(df['score'] >= 90, 'Needs Improvement')\n",
        "\n",
        "# Mask scores of 90 or above as 'Excellent'\n",
        "df['rating'] = df['score'].mask(df['score'] >= 90, 'Excellent')\n",
        "\n",
        "print(df)"
      ],
      "outputs": [
        {
          "output_type": "stream",
          "name": "stdout",
          "text": [
            "   age country  score        performance     rating\n",
            "0   25     USA     80  Needs Improvement         80\n",
            "1   30  Canada     90                 90  Excellent\n",
            "2   35     USA     85  Needs Improvement         85\n",
            "3   40      UK     95                 95  Excellent\n",
            "4   45  Canada     90                 90  Excellent\n"
          ]
        }
      ],
      "execution_count": 4,
      "metadata": {
        "colab": {
          "base_uri": "https://localhost:8080/"
        },
        "id": "wxJb9K8W_O4x",
        "outputId": "9ed23cd1-2bd3-4cb5-f005-abef62fe7acd"
      }
    },
    {
      "cell_type": "markdown",
      "source": [
        "### **The Flexible Last Resort: `.apply()` with Lambda Functions**\n",
        "\n",
        "When your filtering logic is complex and cannot be expressed easily with the methods above (e.g., it depends on a custom function applied row-wise), you can use `.apply()` with a `lambda` function.\n",
        "\n",
        "**Logic:**\n",
        "`.apply()` iterates over the rows (with `axis=1`) or columns of a DataFrame and applies a function. For filtering, this function should return `True` or `False` for each row.\n",
        "\n",
        "**Example:**"
      ],
      "metadata": {
        "id": "rweJdWmI_O41"
      }
    },
    {
      "cell_type": "code",
      "source": [
        "# Filter for rows where the score is greater than the average age (a contrived example)\n",
        "filtered_df_apply = df[df.apply(lambda row: row['score'] > df['age'].mean(), axis=1)]\n",
        "print(filtered_df_apply)"
      ],
      "outputs": [
        {
          "output_type": "stream",
          "name": "stdout",
          "text": [
            "   age country  score        performance     rating\n",
            "0   25     USA     80  Needs Improvement         80\n",
            "1   30  Canada     90                 90  Excellent\n",
            "2   35     USA     85  Needs Improvement         85\n",
            "3   40      UK     95                 95  Excellent\n",
            "4   45  Canada     90                 90  Excellent\n"
          ]
        }
      ],
      "execution_count": 5,
      "metadata": {
        "colab": {
          "base_uri": "https://localhost:8080/"
        },
        "id": "XuMVe8GU_O45",
        "outputId": "b7c10235-901d-4999-ec7a-876c34f5d86b"
      }
    },
    {
      "cell_type": "markdown",
      "source": [
        "**Performance Warning:** Using `.apply()` with `axis=1` can be significantly slower than vectorized operations like boolean indexing or `.query()`. It should be your last resort when other methods are not feasible.\n",
        "\n",
        "## **Performance and Best Practices**\n",
        "\n",
        "For your journey in data analytics, understanding the performance implications of your filtering choices is key.\n",
        "\n",
        "  * **Vectorization is King:** Boolean indexing, `.query()`, and `.isin()` are vectorized operations. This means the underlying computations are performed in highly optimized C code, operating on entire arrays at once rather than iterating element by element in Python. Always favor vectorized methods for performance.\n",
        "\n",
        "  * **Readability vs. Performance:**\n",
        "\n",
        "      * **Boolean Indexing:** Generally the most performant, especially for simple to moderately complex conditions.\n",
        "      * **`.query()`:** Can be slightly faster for very complex conditions due to the `numexpr` engine. Its main advantage is improved readability.\n",
        "      * **`.apply()`:** Significantly slower. Avoid it for filtering unless the logic cannot be vectorized.\n",
        "\n",
        "  * **Handling `NaN` Values:** When filtering, be aware of how `NaN` (Not a Number) values are handled. Comparisons with `NaN` always return `False`.\n",
        "\n",
        "      * `df.loc[df['column'] > 10]` will exclude rows where `'column'` is `NaN`.\n",
        "      * To explicitly include or exclude `NaN` values, use `.isna()` or `.notna()`.\n",
        "\n",
        "    <!-- end list -->"
      ],
      "metadata": {
        "id": "c_FcTuv1_O49"
      }
    },
    {
      "cell_type": "code",
      "source": [
        "# Filter for scores greater than 90 or missing values\n",
        "df.loc[(df['score'] > 90) | (df['score'].isna())]"
      ],
      "outputs": [
        {
          "output_type": "execute_result",
          "data": {
            "text/plain": [
              "   age country  score performance     rating\n",
              "3   40      UK     95          95  Excellent"
            ],
            "text/html": [
              "\n",
              "  <div id=\"df-eb809847-44a2-4911-b13b-97747867da16\" class=\"colab-df-container\">\n",
              "    <div>\n",
              "<style scoped>\n",
              "    .dataframe tbody tr th:only-of-type {\n",
              "        vertical-align: middle;\n",
              "    }\n",
              "\n",
              "    .dataframe tbody tr th {\n",
              "        vertical-align: top;\n",
              "    }\n",
              "\n",
              "    .dataframe thead th {\n",
              "        text-align: right;\n",
              "    }\n",
              "</style>\n",
              "<table border=\"1\" class=\"dataframe\">\n",
              "  <thead>\n",
              "    <tr style=\"text-align: right;\">\n",
              "      <th></th>\n",
              "      <th>age</th>\n",
              "      <th>country</th>\n",
              "      <th>score</th>\n",
              "      <th>performance</th>\n",
              "      <th>rating</th>\n",
              "    </tr>\n",
              "  </thead>\n",
              "  <tbody>\n",
              "    <tr>\n",
              "      <th>3</th>\n",
              "      <td>40</td>\n",
              "      <td>UK</td>\n",
              "      <td>95</td>\n",
              "      <td>95</td>\n",
              "      <td>Excellent</td>\n",
              "    </tr>\n",
              "  </tbody>\n",
              "</table>\n",
              "</div>\n",
              "    <div class=\"colab-df-buttons\">\n",
              "\n",
              "  <div class=\"colab-df-container\">\n",
              "    <button class=\"colab-df-convert\" onclick=\"convertToInteractive('df-eb809847-44a2-4911-b13b-97747867da16')\"\n",
              "            title=\"Convert this dataframe to an interactive table.\"\n",
              "            style=\"display:none;\">\n",
              "\n",
              "  <svg xmlns=\"http://www.w3.org/2000/svg\" height=\"24px\" viewBox=\"0 -960 960 960\">\n",
              "    <path d=\"M120-120v-720h720v720H120Zm60-500h600v-160H180v160Zm220 220h160v-160H400v160Zm0 220h160v-160H400v160ZM180-400h160v-160H180v160Zm440 0h160v-160H620v160ZM180-180h160v-160H180v160Zm440 0h160v-160H620v160Z\"/>\n",
              "  </svg>\n",
              "    </button>\n",
              "\n",
              "  <style>\n",
              "    .colab-df-container {\n",
              "      display:flex;\n",
              "      gap: 12px;\n",
              "    }\n",
              "\n",
              "    .colab-df-convert {\n",
              "      background-color: #E8F0FE;\n",
              "      border: none;\n",
              "      border-radius: 50%;\n",
              "      cursor: pointer;\n",
              "      display: none;\n",
              "      fill: #1967D2;\n",
              "      height: 32px;\n",
              "      padding: 0 0 0 0;\n",
              "      width: 32px;\n",
              "    }\n",
              "\n",
              "    .colab-df-convert:hover {\n",
              "      background-color: #E2EBFA;\n",
              "      box-shadow: 0px 1px 2px rgba(60, 64, 67, 0.3), 0px 1px 3px 1px rgba(60, 64, 67, 0.15);\n",
              "      fill: #174EA6;\n",
              "    }\n",
              "\n",
              "    .colab-df-buttons div {\n",
              "      margin-bottom: 4px;\n",
              "    }\n",
              "\n",
              "    [theme=dark] .colab-df-convert {\n",
              "      background-color: #3B4455;\n",
              "      fill: #D2E3FC;\n",
              "    }\n",
              "\n",
              "    [theme=dark] .colab-df-convert:hover {\n",
              "      background-color: #434B5C;\n",
              "      box-shadow: 0px 1px 3px 1px rgba(0, 0, 0, 0.15);\n",
              "      filter: drop-shadow(0px 1px 2px rgba(0, 0, 0, 0.3));\n",
              "      fill: #FFFFFF;\n",
              "    }\n",
              "  </style>\n",
              "\n",
              "    <script>\n",
              "      const buttonEl =\n",
              "        document.querySelector('#df-eb809847-44a2-4911-b13b-97747867da16 button.colab-df-convert');\n",
              "      buttonEl.style.display =\n",
              "        google.colab.kernel.accessAllowed ? 'block' : 'none';\n",
              "\n",
              "      async function convertToInteractive(key) {\n",
              "        const element = document.querySelector('#df-eb809847-44a2-4911-b13b-97747867da16');\n",
              "        const dataTable =\n",
              "          await google.colab.kernel.invokeFunction('convertToInteractive',\n",
              "                                                    [key], {});\n",
              "        if (!dataTable) return;\n",
              "\n",
              "        const docLinkHtml = 'Like what you see? Visit the ' +\n",
              "          '<a target=\"_blank\" href=https://colab.research.google.com/notebooks/data_table.ipynb>data table notebook</a>'\n",
              "          + ' to learn more about interactive tables.';\n",
              "        element.innerHTML = '';\n",
              "        dataTable['output_type'] = 'display_data';\n",
              "        await google.colab.output.renderOutput(dataTable, element);\n",
              "        const docLink = document.createElement('div');\n",
              "        docLink.innerHTML = docLinkHtml;\n",
              "        element.appendChild(docLink);\n",
              "      }\n",
              "    </script>\n",
              "  </div>\n",
              "\n",
              "\n",
              "    </div>\n",
              "  </div>\n"
            ],
            "application/vnd.google.colaboratory.intrinsic+json": {
              "type": "dataframe",
              "repr_error": "0"
            }
          },
          "metadata": {},
          "execution_count": 7
        }
      ],
      "execution_count": 7,
      "metadata": {
        "colab": {
          "base_uri": "https://localhost:8080/",
          "height": 81
        },
        "id": "UELQfiES_O4_",
        "outputId": "e833c724-8153-4f4a-a519-70c010c8dcb5"
      }
    },
    {
      "cell_type": "markdown",
      "source": [
        "## **Summary of Advanced Filtering Methods**\n",
        "\n",
        "| Method | Primary Use Case | Readability | Performance |\n",
        "| :--- | :--- | :--- | :--- |\n",
        "| **Boolean Indexing with `.loc`** | The standard and most versatile way to filter based on one or more conditions. | Good, but can become verbose with many conditions. | Excellent (vectorized). |\n",
        "| **`.query()`** | Filtering with multiple conditions where readability is a priority; similar to SQL. | Excellent, especially for complex filters. | Very good; can be faster than boolean indexing for complex cases. |\n",
        "| **`.isin()`** | Checking for membership in a list of values. | Excellent and concise for its purpose. | Excellent (vectorized). |\n",
        "| **`.where()` / `.mask()`** | Conditionally replacing values in a Series or DataFrame without dropping rows. | Good for its specific use case. | Good (vectorized). |\n",
        "| **`.apply()` with `lambda`** | Applying complex, custom, or row-wise functions that cannot be vectorized. | Can be good for encapsulating complex logic, but the lambda can be obscure. | Poor (iterative). Use as a last resort. |"
      ],
      "metadata": {
        "id": "5AwF5Jil_O5B"
      }
    }
  ],
  "metadata": {
    "colab": {
      "provenance": []
    },
    "kernelspec": {
      "display_name": "Python 3",
      "name": "python3"
    }
  },
  "nbformat": 4,
  "nbformat_minor": 0
}