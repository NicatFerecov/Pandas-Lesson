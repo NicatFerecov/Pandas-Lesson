{
  "cells": [
    {
      "cell_type": "markdown",
      "source": [
        "Of course. Let's dive into some advanced uses of Pandas' `groupby` functionality, which are essential for sophisticated data analysis.\n",
        "\n",
        "### **Advanced `groupby` Techniques in Pandas**\n",
        "\n",
        "Beyond simple aggregations like `.sum()` or `.mean()`, `groupby` offers a powerful suite of tools for complex data manipulation.\n",
        "\n",
        "-----\n",
        "\n",
        "### **Named Aggregations with `.agg()`**\n",
        "\n",
        "When you need to apply multiple aggregation functions and control the resulting column names, the **`agg()`** method with named aggregations is the cleanest approach. This is often more readable than using a dictionary.\n",
        "\n",
        "**Logic:**\n",
        "You use the `.agg()` method after a `groupby` and pass keyword arguments where the **keyword is the new column name** and the **value is a tuple** containing the column to aggregate and the aggregation function.\n",
        "\n",
        "**Example:**\n",
        "Let's say we have sales data and want to find the total sales and the number of unique products sold for each region."
      ],
      "metadata": {
        "id": "NJff8woOQ-Qf"
      }
    },
    {
      "cell_type": "code",
      "source": [
        "import pandas as pd\n",
        "\n",
        "df = pd.DataFrame({\n",
        "    'Region': ['North', 'North', 'South', 'South', 'West', 'West'],\n",
        "    'Product': ['A', 'B', 'A', 'C', 'B', 'C'],\n",
        "    'Sales': [100, 150, 200, 50, 300, 250]\n",
        "})\n",
        "\n",
        "# Advanced aggregation with named columns\n",
        "adv_agg = df.groupby('Region').agg(\n",
        "    Total_Sales=('Sales', 'sum'),\n",
        "    Unique_Products=('Product', 'nunique')\n",
        ")\n",
        "\n",
        "print(adv_agg)"
      ],
      "outputs": [
        {
          "output_type": "stream",
          "name": "stdout",
          "text": [
            "        Total_Sales  Unique_Products\n",
            "Region                              \n",
            "North           250                2\n",
            "South           250                2\n",
            "West            550                2\n"
          ]
        }
      ],
      "execution_count": 1,
      "metadata": {
        "colab": {
          "base_uri": "https://localhost:8080/"
        },
        "id": "wSTWuYCBQ-Q9",
        "outputId": "5540a0c0-efbb-4ddf-dedb-dd7153387c84"
      }
    },
    {
      "cell_type": "markdown",
      "source": [
        "**Output:**\n",
        "\n",
        "```\n",
        "        Total_Sales  Unique_Products\n",
        "Region                             \n",
        "North           250                2\n",
        "South           250                2\n",
        "West            550                2\n",
        "```\n",
        "\n",
        "-----\n",
        "\n",
        "### **Group-wise Transformation with `.transform()`**\n",
        "\n",
        "Sometimes you don't want to aggregate the data down, but instead want to create a **new column** in your original DataFrame based on a group-level calculation. This is the perfect use case for `.transform()`.\n",
        "\n",
        "**Logic:**\n",
        "The `.transform()` method applies a function to each group and returns a Series that has the **same index** as the original DataFrame, making it easy to add back as a new column.\n",
        "\n",
        "**Example:**\n",
        "Imagine you want to calculate the percentage of each sale relative to its region's total sales."
      ],
      "metadata": {
        "id": "5Vonjk0vQ-RH"
      }
    },
    {
      "cell_type": "code",
      "source": [
        "# Calculate total sales per region\n",
        "df['Region_Total_Sales'] = df.groupby('Region')['Sales'].transform('sum')\n",
        "\n",
        "# Calculate the percentage of regional sales for each transaction\n",
        "df['Pct_of_Region_Sales'] = (df['Sales'] / df['Region_Total_Sales']) * 100\n",
        "\n",
        "print(df)"
      ],
      "outputs": [
        {
          "output_type": "stream",
          "name": "stdout",
          "text": [
            "  Region Product  Sales  Region_Total_Sales  Pct_of_Region_Sales\n",
            "0  North       A    100                 250            40.000000\n",
            "1  North       B    150                 250            60.000000\n",
            "2  South       A    200                 250            80.000000\n",
            "3  South       C     50                 250            20.000000\n",
            "4   West       B    300                 550            54.545455\n",
            "5   West       C    250                 550            45.454545\n"
          ]
        }
      ],
      "execution_count": 2,
      "metadata": {
        "colab": {
          "base_uri": "https://localhost:8080/"
        },
        "id": "xqvSS7IzQ-RL",
        "outputId": "df73aab4-8810-436a-9e63-bf9acfcddd8f"
      }
    },
    {
      "cell_type": "markdown",
      "source": [
        "**Output:**\n",
        "\n",
        "```\n",
        "  Region Product  Sales  Region_Total_Sales  Pct_of_Region_Sales\n",
        "0  North       A    100                 250            40.000000\n",
        "1  North       B    150                 250            60.000000\n",
        "2  South       A    200                 250            80.000000\n",
        "3  South       C     50                 250            20.000000\n",
        "4   West       B    300                 550            54.545455\n",
        "5   West       C    250                 550            45.454545\n",
        "```\n",
        "\n",
        "-----\n",
        "\n",
        "### **Group-wise Filtering with `.filter()`**\n",
        "\n",
        "What if you want to **keep or discard entire groups** based on a group-level property? The `.filter()` method is designed for exactly this.\n",
        "\n",
        "**Logic:**\n",
        "You provide a function (often a `lambda`) to `.filter()` that gets applied to each group. If the function returns `True` for a group, all rows belonging to that group are kept. If it returns `False`, they are all dropped.\n",
        "\n",
        "**Example:**\n",
        "Let's filter our DataFrame to only include regions where the total sales are greater than $300."
      ],
      "metadata": {
        "id": "49UCeq4lQ-RO"
      }
    },
    {
      "cell_type": "code",
      "source": [
        "# Keep only the groups (regions) where the sum of sales is > 300\n",
        "filtered_groups = df.groupby('Region').filter(lambda x: x['Sales'].sum() > 300)\n",
        "\n",
        "print(filtered_groups)"
      ],
      "outputs": [
        {
          "output_type": "stream",
          "name": "stdout",
          "text": [
            "  Region Product  Sales  Region_Total_Sales  Pct_of_Region_Sales\n",
            "4   West       B    300                 550            54.545455\n",
            "5   West       C    250                 550            45.454545\n"
          ]
        }
      ],
      "execution_count": 3,
      "metadata": {
        "colab": {
          "base_uri": "https://localhost:8080/"
        },
        "id": "tU7vYXVQQ-RR",
        "outputId": "28d31b36-9e6d-457e-b344-8caac170c985"
      }
    },
    {
      "cell_type": "markdown",
      "source": [
        "**Output:**\n",
        "\n",
        "```\n",
        "  Region Product  Sales\n",
        "4   West       B    300\n",
        "5   West       C    250\n",
        "```\n",
        "\n",
        "Notice how both rows from the 'West' region are returned because their group's total sales ($550) met the criteria. The 'North' and 'South' regions were completely removed."
      ],
      "metadata": {
        "id": "FGWJLyRxQ-RU"
      }
    }
  ],
  "metadata": {
    "colab": {
      "provenance": []
    },
    "kernelspec": {
      "display_name": "Python 3",
      "name": "python3"
    }
  },
  "nbformat": 4,
  "nbformat_minor": 0
}